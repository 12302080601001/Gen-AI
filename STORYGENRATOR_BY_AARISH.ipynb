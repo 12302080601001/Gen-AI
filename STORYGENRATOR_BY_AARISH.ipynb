{
 "cells": [
  {
   "cell_type": "code",
   "execution_count": 2,
   "id": "b4790091-3b4f-4d8e-9a78-4d64d81c5bb1",
   "metadata": {},
   "outputs": [],
   "source": [
    "from transformers import pipeline\n"
   ]
  },
  {
   "cell_type": "code",
   "execution_count": 8,
   "id": "1e8b0175-abb4-4833-873b-d1b89d3d7c3a",
   "metadata": {},
   "outputs": [
    {
     "name": "stdout",
     "output_type": "stream",
     "text": [
      "Welcome to the Story Generator!\n",
      "Please enter a prompt for your story (e.g., 'A clever detective finds...'):\n",
      "\n"
     ]
    },
    {
     "name": "stdin",
     "output_type": "stream",
     "text": [
      "Enter a story prompt:  a boy became hero in class\n"
     ]
    },
    {
     "name": "stdout",
     "output_type": "stream",
     "text": [
      "\n",
      "Generated Story:\n",
      "\n",
      "a boy became hero in class but left school late after a teacher called him an \"unsatisfactory boy\" because of his race, was disciplined for failing to learn English and was ordered to return home with his mother to pay back hundreds of thousands in taxes.\n",
      "\n",
      "The teacher was sentenced to 12 years in prison for failing to report a sexual assault to the police, prompting the state attorney to open an investigation, but prosecutors said they didn't have sufficient evidence to pursue charges.\n",
      "\n",
      "The case sparked criticism from civil rights advocates and public officials, who called the district's handling of the case \"despicable.\" The lawsuit is aimed at ensuring the school district keeps its police records, says an attorney for the Rev. William Jones, president of the National Organization for Civil Rights.\n",
      "\n",
      "\"It's hard to believe that this is going to happen to a young black boy,\" he said, adding: \"The state is not going to allow police to bully children about who they aren't.\"\n"
     ]
    }
   ],
   "source": [
    "# Import necessary libraries\n",
    "from transformers import pipeline\n",
    "\n",
    "# Initialize the text generation pipeline\n",
    "generator = pipeline('text-generation', model='gpt2')\n",
    "\n",
    "# Function to generate a story based on the user prompt\n",
    "def generate_story(prompt, max_length=200):\n",
    "    try:\n",
    "        story = generator(prompt, max_length=max_length, num_return_sequences=1, \n",
    "                          pad_token_id=50256, truncation=True)  # Specify padding and truncation\n",
    "        return story[0]['generated_text']\n",
    "    except Exception as e:\n",
    "        return f\"Error generating story: {e}\"\n",
    "\n",
    "# Main function to run the story generator\n",
    "def main():\n",
    "    print(\"Welcome to the Story Generator!\")\n",
    "    print(\"Please enter a prompt for your story (e.g., 'A clever detective finds...'):\\n\")\n",
    "    \n",
    "    # Get user input for the story prompt\n",
    "    user_prompt = input(\"Enter a story prompt: \")\n",
    "    \n",
    "    # Generate the story\n",
    "    story = generate_story(user_prompt)\n",
    "    \n",
    "    # Print the generated story\n",
    "    print(\"\\nGenerated Story:\\n\")\n",
    "    print(story.strip())  # Strip any leading/trailing whitespace for cleaner output\n",
    "\n",
    "# Run the main function\n",
    "if __name__ == \"__main__\":\n",
    "    main()\n",
    "\n"
   ]
  },
  {
   "cell_type": "code",
   "execution_count": null,
   "id": "2007c95e-919f-4eb7-be05-62a9013f2de9",
   "metadata": {},
   "outputs": [],
   "source": []
  }
 ],
 "metadata": {
  "kernelspec": {
   "display_name": "Python (myenv)",
   "language": "python",
   "name": "myenv"
  },
  "language_info": {
   "codemirror_mode": {
    "name": "ipython",
    "version": 3
   },
   "file_extension": ".py",
   "mimetype": "text/x-python",
   "name": "python",
   "nbconvert_exporter": "python",
   "pygments_lexer": "ipython3",
   "version": "3.12.6"
  }
 },
 "nbformat": 4,
 "nbformat_minor": 5
}
